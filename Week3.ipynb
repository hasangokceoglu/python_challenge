{
  "nbformat": 4,
  "nbformat_minor": 0,
  "metadata": {
    "colab": {
      "provenance": [],
      "authorship_tag": "ABX9TyM3wc2+dKoIYHv3LWhCOLOb",
      "include_colab_link": true
    },
    "kernelspec": {
      "name": "python3",
      "display_name": "Python 3"
    },
    "language_info": {
      "name": "python"
    }
  },
  "cells": [
    {
      "cell_type": "markdown",
      "metadata": {
        "id": "view-in-github",
        "colab_type": "text"
      },
      "source": [
        "<a href=\"https://colab.research.google.com/github/hasangokceoglu/python_challenge/blob/main/Week3.ipynb\" target=\"_parent\"><img src=\"https://colab.research.google.com/assets/colab-badge.svg\" alt=\"Open In Colab\"/></a>"
      ]
    },
    {
      "cell_type": "code",
      "execution_count": null,
      "metadata": {
        "id": "j8k6JSqHbEvc"
      },
      "outputs": [],
      "source": [
        "name=\"Hasan\"\n",
        "country=\"Turkey\"\n",
        "age=40\n",
        "hourly_wage=21.50\n",
        "satisfied = True\n",
        "daily_wage=21.50*8"
      ]
    },
    {
      "cell_type": "code",
      "source": [
        "word=\"peace\"\n",
        "for x in word:\n",
        "    print(x)"
      ],
      "metadata": {
        "id": "zsxPbx2rXtis"
      },
      "execution_count": null,
      "outputs": []
    },
    {
      "cell_type": "code",
      "source": [
        "zoo=[\"dog\",\"cat\",\"mice\"]\n",
        "for x in zoo:\n",
        "  print(x)\n",
        "  "
      ],
      "metadata": {
        "id": "RahDoJJAYUyh"
      },
      "execution_count": null,
      "outputs": []
    },
    {
      "cell_type": "code",
      "source": [
        "run = \"y\"\n",
        "while run == \"y\" :\n",
        "  print(\"Hi\")\n",
        "  run = input(\"run again ? \" )\n",
        "\n",
        "\n",
        "\n"
      ],
      "metadata": {
        "id": "20SToiGHYr-N"
      },
      "execution_count": null,
      "outputs": []
    },
    {
      "cell_type": "code",
      "source": [
        "user_play=\"y\"\n",
        "start_number=0\n",
        "while user_play==\"y\":\n",
        "  user_number = int(input(\"number? \"))\n",
        "  for x in range(start_number,int(user_number)+start_number) :\n",
        "    print(x)\n",
        "  start_number=start_number + int(user_number)\n",
        "\n",
        "user_play=input(\"again \" )\n",
        "\n"
      ],
      "metadata": {
        "id": "2EI5nLwnektS"
      },
      "execution_count": null,
      "outputs": []
    },
    {
      "cell_type": "code",
      "source": [
        "hobby_book={\n",
        "    \"name\":\"Hasan\",\n",
        "    \"age\": 40,\n",
        "    \"hobby\":[\"photo\",\"dive\"],\n",
        "    \"monday\":\"08\",\n",
        "    \"tuesday\":\"07\" }\n",
        "\n",
        "print(f'{hobby_book[\"name\"]} is {hobby_book[\"age\"]} and hobby is {hobby_book[\"hobby\"][1]} and wakes up monday at {hobby_book[\"monday\"]}')\n"
      ],
      "metadata": {
        "id": "GzgtW-pGiEzu",
        "colab": {
          "base_uri": "https://localhost:8080/"
        },
        "outputId": "b2dc54e0-97c4-4824-d596-a1a414ee64cd"
      },
      "execution_count": 24,
      "outputs": [
        {
          "output_type": "stream",
          "name": "stdout",
          "text": [
            "Hasan is 40 and hobby is dive and wakes up monday at 08\n"
          ]
        }
      ]
    },
    {
      "cell_type": "code",
      "source": [
        "hobby={\n",
        "    \"name\": \"Hasan\",\n",
        "    \"age\": 38,\n",
        "    \"hob\":[\n",
        "        \"photo\",\n",
        "        \"fitness\"]}\n",
        "\n",
        "print(f'{hobby[\"name\"]} is {hobby[\"age\"] } years old and his favorite hobby is {hobby[\"hob\"][0]}')"
      ],
      "metadata": {
        "id": "kS1MDaUApuEJ"
      },
      "execution_count": null,
      "outputs": []
    },
    {
      "cell_type": "code",
      "source": [
        "\n",
        "print(\"Hello\")\n",
        "name = input(\"what is your name \")\n",
        "print(f\"Hello\", name)\n",
        "\n",
        "age=input(\"what is your age?\")\n",
        "if (int(age)<= 18) :\n",
        "  print(\"You are a baby\")\n",
        "else :\n",
        "  print(\"A well travelled soul\")\n"
      ],
      "metadata": {
        "id": "KcqNHfgor4em"
      },
      "execution_count": null,
      "outputs": []
    },
    {
      "cell_type": "code",
      "source": [
        "for x in range(5,10):\n",
        "    print(x)"
      ],
      "metadata": {
        "id": "e6zgW9u7uv9Q"
      },
      "execution_count": null,
      "outputs": []
    },
    {
      "cell_type": "code",
      "source": [
        "words = [\"Peanut\", \"Butter\", \"Jelly\", \"Time\", \"Is\", \"Now\"]\n",
        "for word in words:\n",
        "    print(word)"
      ],
      "metadata": {
        "id": "t1kEKJwIv4yV"
      },
      "execution_count": null,
      "outputs": []
    },
    {
      "cell_type": "code",
      "source": [
        "x = \"Yes\"\n",
        "while x == \"Yes\":\n",
        "    print(\"Whee! Merry-Go-Rounds are great!\")\n",
        "    x = input(\"Would you like to go on the Merry-Go-Round again? \")"
      ],
      "metadata": {
        "id": "N7jR7jt-wUwk"
      },
      "execution_count": null,
      "outputs": []
    },
    {
      "cell_type": "code",
      "source": [
        "from ast import Index\n",
        "candy_list=[\"Snickers\",\"Mars\",\"Cokonat\"]\n",
        "candy_chart= []\n",
        "for x in candy_list:\n",
        "  print(f'[{str(candy_list.index(x))}] {x}')\n",
        "\n",
        "allowance=input(\"Allowance\")\n",
        "\n",
        "print(\"which candy? \")\n",
        "\n",
        "for x in range(int(allowance)):\n",
        "  selected=input(\"candy no \")\n",
        "  candy_chart.append(candy_list[int(selected)])\n",
        "\n",
        "print(candy_chart)\n"
      ],
      "metadata": {
        "id": "jF7ruVr9xbJP"
      },
      "execution_count": null,
      "outputs": []
    },
    {
      "cell_type": "code",
      "source": [
        "from google.colab import files\n",
        "files.upload()\n",
        "\n",
        "\n"
      ],
      "metadata": {
        "id": "7-M2aLkW4tJN"
      },
      "execution_count": null,
      "outputs": []
    },
    {
      "cell_type": "code",
      "source": [
        "from google.colab import files\n",
        "files.upload()\n",
        "\n",
        "import os\n",
        "import csv\n",
        "import pandas as pd\n",
        "\n",
        "#specify the file to write\n",
        "#outpath = os.path.join('new.csv')\n",
        "\n",
        "with open('new.csv','w') as csvfile:\n",
        "  csvwriter = csv.writer(csvfile,delimiter=',')\n",
        "  csvwriter.writerow(['First Names', 'Last Names','SSN','saat'])\n",
        "  csvwriter.writerow(['Hasan','Gokce','505-80-2901','01:35'])\n",
        "\n",
        "files.download(\"new.csv\")"
      ],
      "metadata": {
        "id": "oW5rWRnIK37A"
      },
      "execution_count": null,
      "outputs": []
    },
    {
      "cell_type": "code",
      "source": [
        "from google.colab import files\n",
        "files.upload()\n",
        "\n",
        "import os\n",
        "import csv\n",
        "#cereal file path\n",
        "#cereal_csv = os.path.join('cereal.csv')\n",
        "#open csv file\n",
        "with open(cereal_csv) as csv_file:\n",
        "        csv_reader = csv.reader(csv_file, delimiter=',')\n",
        "#using next(csv_reader)\n",
        "        csv_header = next(csv_file)\n",
        "        print(f'header:{csv_header}')\n",
        "#read rows\n",
        "        for row in csv_reader:\n",
        "                if float(row[7]) >= 5:\n",
        "                        print(row)"
      ],
      "metadata": {
        "id": "2ZO7WwSgH9Ej"
      },
      "execution_count": null,
      "outputs": []
    },
    {
      "cell_type": "code",
      "source": [
        "from google.colab import files\n",
        "files.upload()\n",
        "\n",
        "import os\n",
        "import csv\n",
        "import pandas as pd\n",
        "\n",
        "with open('contacts.csv') as csvfile:\n",
        "\n",
        "    # CSV reader specifies delimiter and variable that holds contents\n",
        "    csvreader = csv.reader(csvfile, delimiter=',')\n",
        "\n",
        "    print(csvreader)\n",
        "\n",
        "    # Read the header row first (skip this step if there is now header)\n",
        "    csv_header = next(csvreader)\n",
        "    print(f\"CSV Header: {csv_header}\")\n",
        "\n",
        "    # Read each row of data after the header\n",
        "    for row in csvreader:\n",
        "        print(row)"
      ],
      "metadata": {
        "id": "s9VtYruESiNU"
      },
      "execution_count": null,
      "outputs": []
    },
    {
      "cell_type": "code",
      "source": [
        "import os\n",
        "import csv\n",
        "import pandas as pd\n",
        "\n",
        "from google.colab import files\n",
        "files.upload()\n",
        "\n",
        "with open('contacts.csv') as csvfile:\n",
        "  csvreader=csv.reader(csvfile,delimiter=',')\n",
        "  print(csvreader)\n",
        "\n",
        "  for row in csvreader :\n",
        "    print(row)\n"
      ],
      "metadata": {
        "id": "Tv9UASpVVYQV"
      },
      "execution_count": null,
      "outputs": []
    },
    {
      "cell_type": "code",
      "source": [
        "#cereal\n",
        "\n",
        "import os\n",
        "import csv\n",
        "import pandas as pd\n",
        "\n",
        "from google.colab import files\n",
        "files.upload()\n",
        "\n",
        "with open('cereal.csv') as csv_file:\n",
        "  csv_reader=csv.reader(csv_file,delimiter=',')\n",
        "\n",
        "# skip header\n",
        "  csv_header=next(csv_file)\n",
        "  print(f'header:{csv_header}')\n",
        "  for row in csv_reader :\n",
        "    if float(row[7])>=5:\n",
        "      print(row)\n"
      ],
      "metadata": {
        "colab": {
          "base_uri": "https://localhost:8080/",
          "height": 247
        },
        "id": "LjE9NNltZ3Px",
        "outputId": "6a405666-1ec9-4416-ca1b-a5a48213e9ee"
      },
      "execution_count": 22,
      "outputs": [
        {
          "output_type": "display_data",
          "data": {
            "text/plain": [
              "<IPython.core.display.HTML object>"
            ],
            "text/html": [
              "\n",
              "     <input type=\"file\" id=\"files-558504b7-ab77-4867-a1f2-6d39751f2071\" name=\"files[]\" multiple disabled\n",
              "        style=\"border:none\" />\n",
              "     <output id=\"result-558504b7-ab77-4867-a1f2-6d39751f2071\">\n",
              "      Upload widget is only available when the cell has been executed in the\n",
              "      current browser session. Please rerun this cell to enable.\n",
              "      </output>\n",
              "      <script>// Copyright 2017 Google LLC\n",
              "//\n",
              "// Licensed under the Apache License, Version 2.0 (the \"License\");\n",
              "// you may not use this file except in compliance with the License.\n",
              "// You may obtain a copy of the License at\n",
              "//\n",
              "//      http://www.apache.org/licenses/LICENSE-2.0\n",
              "//\n",
              "// Unless required by applicable law or agreed to in writing, software\n",
              "// distributed under the License is distributed on an \"AS IS\" BASIS,\n",
              "// WITHOUT WARRANTIES OR CONDITIONS OF ANY KIND, either express or implied.\n",
              "// See the License for the specific language governing permissions and\n",
              "// limitations under the License.\n",
              "\n",
              "/**\n",
              " * @fileoverview Helpers for google.colab Python module.\n",
              " */\n",
              "(function(scope) {\n",
              "function span(text, styleAttributes = {}) {\n",
              "  const element = document.createElement('span');\n",
              "  element.textContent = text;\n",
              "  for (const key of Object.keys(styleAttributes)) {\n",
              "    element.style[key] = styleAttributes[key];\n",
              "  }\n",
              "  return element;\n",
              "}\n",
              "\n",
              "// Max number of bytes which will be uploaded at a time.\n",
              "const MAX_PAYLOAD_SIZE = 100 * 1024;\n",
              "\n",
              "function _uploadFiles(inputId, outputId) {\n",
              "  const steps = uploadFilesStep(inputId, outputId);\n",
              "  const outputElement = document.getElementById(outputId);\n",
              "  // Cache steps on the outputElement to make it available for the next call\n",
              "  // to uploadFilesContinue from Python.\n",
              "  outputElement.steps = steps;\n",
              "\n",
              "  return _uploadFilesContinue(outputId);\n",
              "}\n",
              "\n",
              "// This is roughly an async generator (not supported in the browser yet),\n",
              "// where there are multiple asynchronous steps and the Python side is going\n",
              "// to poll for completion of each step.\n",
              "// This uses a Promise to block the python side on completion of each step,\n",
              "// then passes the result of the previous step as the input to the next step.\n",
              "function _uploadFilesContinue(outputId) {\n",
              "  const outputElement = document.getElementById(outputId);\n",
              "  const steps = outputElement.steps;\n",
              "\n",
              "  const next = steps.next(outputElement.lastPromiseValue);\n",
              "  return Promise.resolve(next.value.promise).then((value) => {\n",
              "    // Cache the last promise value to make it available to the next\n",
              "    // step of the generator.\n",
              "    outputElement.lastPromiseValue = value;\n",
              "    return next.value.response;\n",
              "  });\n",
              "}\n",
              "\n",
              "/**\n",
              " * Generator function which is called between each async step of the upload\n",
              " * process.\n",
              " * @param {string} inputId Element ID of the input file picker element.\n",
              " * @param {string} outputId Element ID of the output display.\n",
              " * @return {!Iterable<!Object>} Iterable of next steps.\n",
              " */\n",
              "function* uploadFilesStep(inputId, outputId) {\n",
              "  const inputElement = document.getElementById(inputId);\n",
              "  inputElement.disabled = false;\n",
              "\n",
              "  const outputElement = document.getElementById(outputId);\n",
              "  outputElement.innerHTML = '';\n",
              "\n",
              "  const pickedPromise = new Promise((resolve) => {\n",
              "    inputElement.addEventListener('change', (e) => {\n",
              "      resolve(e.target.files);\n",
              "    });\n",
              "  });\n",
              "\n",
              "  const cancel = document.createElement('button');\n",
              "  inputElement.parentElement.appendChild(cancel);\n",
              "  cancel.textContent = 'Cancel upload';\n",
              "  const cancelPromise = new Promise((resolve) => {\n",
              "    cancel.onclick = () => {\n",
              "      resolve(null);\n",
              "    };\n",
              "  });\n",
              "\n",
              "  // Wait for the user to pick the files.\n",
              "  const files = yield {\n",
              "    promise: Promise.race([pickedPromise, cancelPromise]),\n",
              "    response: {\n",
              "      action: 'starting',\n",
              "    }\n",
              "  };\n",
              "\n",
              "  cancel.remove();\n",
              "\n",
              "  // Disable the input element since further picks are not allowed.\n",
              "  inputElement.disabled = true;\n",
              "\n",
              "  if (!files) {\n",
              "    return {\n",
              "      response: {\n",
              "        action: 'complete',\n",
              "      }\n",
              "    };\n",
              "  }\n",
              "\n",
              "  for (const file of files) {\n",
              "    const li = document.createElement('li');\n",
              "    li.append(span(file.name, {fontWeight: 'bold'}));\n",
              "    li.append(span(\n",
              "        `(${file.type || 'n/a'}) - ${file.size} bytes, ` +\n",
              "        `last modified: ${\n",
              "            file.lastModifiedDate ? file.lastModifiedDate.toLocaleDateString() :\n",
              "                                    'n/a'} - `));\n",
              "    const percent = span('0% done');\n",
              "    li.appendChild(percent);\n",
              "\n",
              "    outputElement.appendChild(li);\n",
              "\n",
              "    const fileDataPromise = new Promise((resolve) => {\n",
              "      const reader = new FileReader();\n",
              "      reader.onload = (e) => {\n",
              "        resolve(e.target.result);\n",
              "      };\n",
              "      reader.readAsArrayBuffer(file);\n",
              "    });\n",
              "    // Wait for the data to be ready.\n",
              "    let fileData = yield {\n",
              "      promise: fileDataPromise,\n",
              "      response: {\n",
              "        action: 'continue',\n",
              "      }\n",
              "    };\n",
              "\n",
              "    // Use a chunked sending to avoid message size limits. See b/62115660.\n",
              "    let position = 0;\n",
              "    do {\n",
              "      const length = Math.min(fileData.byteLength - position, MAX_PAYLOAD_SIZE);\n",
              "      const chunk = new Uint8Array(fileData, position, length);\n",
              "      position += length;\n",
              "\n",
              "      const base64 = btoa(String.fromCharCode.apply(null, chunk));\n",
              "      yield {\n",
              "        response: {\n",
              "          action: 'append',\n",
              "          file: file.name,\n",
              "          data: base64,\n",
              "        },\n",
              "      };\n",
              "\n",
              "      let percentDone = fileData.byteLength === 0 ?\n",
              "          100 :\n",
              "          Math.round((position / fileData.byteLength) * 100);\n",
              "      percent.textContent = `${percentDone}% done`;\n",
              "\n",
              "    } while (position < fileData.byteLength);\n",
              "  }\n",
              "\n",
              "  // All done.\n",
              "  yield {\n",
              "    response: {\n",
              "      action: 'complete',\n",
              "    }\n",
              "  };\n",
              "}\n",
              "\n",
              "scope.google = scope.google || {};\n",
              "scope.google.colab = scope.google.colab || {};\n",
              "scope.google.colab._files = {\n",
              "  _uploadFiles,\n",
              "  _uploadFilesContinue,\n",
              "};\n",
              "})(self);\n",
              "</script> "
            ]
          },
          "metadata": {}
        },
        {
          "output_type": "stream",
          "name": "stdout",
          "text": [
            "Saving cereal.csv to cereal (6).csv\n",
            "name,mfr,type,calories,protein,fat,sodium,fiber,carbo,sugars,potass,vitamins,shelf,weight,cups,rating\n",
            "\n",
            "['100% Bran', 'N', 'C', '70', '4', '1', '130', '10', '5', '6', '280', '25', '3', '1', '0.33', '68.402973']\n",
            "['All-Bran', 'K', 'C', '70', '4', '1', '260', '9', '7', '5', '320', '25', '3', '1', '0.33', '59.425505']\n",
            "['All-Bran with Extra Fiber', 'K', 'C', '50', '4', '0', '140', '14', '8', '0', '330', '25', '3', '1', '0.5', '93.704912']\n",
            "['Bran Flakes', 'P', 'C', '90', '3', '0', '210', '5', '13', '5', '190', '25', '3', '1', '0.67', '53.313813']\n",
            "['Fruit & Fibre Dates; Walnuts; and Oats', 'P', 'C', '120', '3', '2', '160', '5', '12', '10', '200', '25', '3', '1.25', '0.67', '40.917047']\n",
            "['Fruitful Bran', 'K', 'C', '120', '3', '0', '240', '5', '14', '12', '190', '25', '3', '1.33', '0.67', '41.015492']\n",
            "['Post Nat. Raisin Bran', 'P', 'C', '120', '3', '1', '200', '6', '11', '14', '260', '25', '3', '1.33', '0.67', '37.840594']\n",
            "['Raisin Bran', 'K', 'C', '120', '3', '1', '210', '5', '14', '12', '240', '25', '2', '1.33', '0.75', '39.259197']\n"
          ]
        }
      ]
    },
    {
      "cell_type": "code",
      "source": [],
      "metadata": {
        "id": "oRa0Q8-beNYt"
      },
      "execution_count": 27,
      "outputs": []
    },
    {
      "cell_type": "code",
      "source": [
        "#Solution to the activity udner list comprehension\n",
        "########################################\n",
        "names = []\n",
        "for _ in range(5):\n",
        "    name = input(\"Please enter the name of someone you know. \")\n",
        "    names.append(name)\n",
        "lowercased = [name.lower() for name in names]\n",
        "titlecased = [name.title() for name in lowercased]\n",
        "invitations = {f\"Dear {name}, please come to the wedding this Saturday!\" for name in titlecased}\n",
        "for invitation in invitations:\n",
        "    print(invitation)"
      ],
      "metadata": {
        "id": "Szg6RhhFipnU"
      },
      "execution_count": null,
      "outputs": []
    },
    {
      "cell_type": "code",
      "source": [
        "import os\n",
        "import csv\n",
        "import pandas as pd\n",
        "import locale\n",
        "\n",
        "from google.colab import files\n",
        "files.upload()\n",
        "count_row=0\n",
        "total_p_l=0\n",
        "with open('budget_data.csv') as csvfile:\n",
        "\n",
        "    # CSV reader specifies delimiter and variable that holds contents\n",
        "    csvreader = csv.reader(csvfile, delimiter=',')\n",
        "\n",
        "    print(csvreader)\n",
        "\n",
        "    # Read the header row first (skip this step if there is now header)\n",
        "    csv_header = next(csvreader)\n",
        "   # print(f\"CSV Header: {csv_header}\")\n",
        "\n",
        "    # Count each row of data after the header\n",
        "    for month in csvreader:\n",
        "        count_row = count_row + 1 \n",
        "        \n",
        "        # Sum profit/loss    \n",
        "        total_p_l=total_p_l+int(month[1]) \n",
        "\n",
        "    #print results\n",
        "\n",
        "    print(f\"Total Months:\", (count_row))\n",
        "    print(f\"Total Profit/Loss:$\",(total_p_l))    \n",
        "    \n"
      ],
      "metadata": {
        "colab": {
          "base_uri": "https://localhost:8080/",
          "height": 125
        },
        "id": "-ZHq9B-1609f",
        "outputId": "ed82a64f-6285-4b9e-cea6-257415dfb882"
      },
      "execution_count": 63,
      "outputs": [
        {
          "output_type": "display_data",
          "data": {
            "text/plain": [
              "<IPython.core.display.HTML object>"
            ],
            "text/html": [
              "\n",
              "     <input type=\"file\" id=\"files-eb00d241-c0f8-41a7-826c-61b249df7390\" name=\"files[]\" multiple disabled\n",
              "        style=\"border:none\" />\n",
              "     <output id=\"result-eb00d241-c0f8-41a7-826c-61b249df7390\">\n",
              "      Upload widget is only available when the cell has been executed in the\n",
              "      current browser session. Please rerun this cell to enable.\n",
              "      </output>\n",
              "      <script>// Copyright 2017 Google LLC\n",
              "//\n",
              "// Licensed under the Apache License, Version 2.0 (the \"License\");\n",
              "// you may not use this file except in compliance with the License.\n",
              "// You may obtain a copy of the License at\n",
              "//\n",
              "//      http://www.apache.org/licenses/LICENSE-2.0\n",
              "//\n",
              "// Unless required by applicable law or agreed to in writing, software\n",
              "// distributed under the License is distributed on an \"AS IS\" BASIS,\n",
              "// WITHOUT WARRANTIES OR CONDITIONS OF ANY KIND, either express or implied.\n",
              "// See the License for the specific language governing permissions and\n",
              "// limitations under the License.\n",
              "\n",
              "/**\n",
              " * @fileoverview Helpers for google.colab Python module.\n",
              " */\n",
              "(function(scope) {\n",
              "function span(text, styleAttributes = {}) {\n",
              "  const element = document.createElement('span');\n",
              "  element.textContent = text;\n",
              "  for (const key of Object.keys(styleAttributes)) {\n",
              "    element.style[key] = styleAttributes[key];\n",
              "  }\n",
              "  return element;\n",
              "}\n",
              "\n",
              "// Max number of bytes which will be uploaded at a time.\n",
              "const MAX_PAYLOAD_SIZE = 100 * 1024;\n",
              "\n",
              "function _uploadFiles(inputId, outputId) {\n",
              "  const steps = uploadFilesStep(inputId, outputId);\n",
              "  const outputElement = document.getElementById(outputId);\n",
              "  // Cache steps on the outputElement to make it available for the next call\n",
              "  // to uploadFilesContinue from Python.\n",
              "  outputElement.steps = steps;\n",
              "\n",
              "  return _uploadFilesContinue(outputId);\n",
              "}\n",
              "\n",
              "// This is roughly an async generator (not supported in the browser yet),\n",
              "// where there are multiple asynchronous steps and the Python side is going\n",
              "// to poll for completion of each step.\n",
              "// This uses a Promise to block the python side on completion of each step,\n",
              "// then passes the result of the previous step as the input to the next step.\n",
              "function _uploadFilesContinue(outputId) {\n",
              "  const outputElement = document.getElementById(outputId);\n",
              "  const steps = outputElement.steps;\n",
              "\n",
              "  const next = steps.next(outputElement.lastPromiseValue);\n",
              "  return Promise.resolve(next.value.promise).then((value) => {\n",
              "    // Cache the last promise value to make it available to the next\n",
              "    // step of the generator.\n",
              "    outputElement.lastPromiseValue = value;\n",
              "    return next.value.response;\n",
              "  });\n",
              "}\n",
              "\n",
              "/**\n",
              " * Generator function which is called between each async step of the upload\n",
              " * process.\n",
              " * @param {string} inputId Element ID of the input file picker element.\n",
              " * @param {string} outputId Element ID of the output display.\n",
              " * @return {!Iterable<!Object>} Iterable of next steps.\n",
              " */\n",
              "function* uploadFilesStep(inputId, outputId) {\n",
              "  const inputElement = document.getElementById(inputId);\n",
              "  inputElement.disabled = false;\n",
              "\n",
              "  const outputElement = document.getElementById(outputId);\n",
              "  outputElement.innerHTML = '';\n",
              "\n",
              "  const pickedPromise = new Promise((resolve) => {\n",
              "    inputElement.addEventListener('change', (e) => {\n",
              "      resolve(e.target.files);\n",
              "    });\n",
              "  });\n",
              "\n",
              "  const cancel = document.createElement('button');\n",
              "  inputElement.parentElement.appendChild(cancel);\n",
              "  cancel.textContent = 'Cancel upload';\n",
              "  const cancelPromise = new Promise((resolve) => {\n",
              "    cancel.onclick = () => {\n",
              "      resolve(null);\n",
              "    };\n",
              "  });\n",
              "\n",
              "  // Wait for the user to pick the files.\n",
              "  const files = yield {\n",
              "    promise: Promise.race([pickedPromise, cancelPromise]),\n",
              "    response: {\n",
              "      action: 'starting',\n",
              "    }\n",
              "  };\n",
              "\n",
              "  cancel.remove();\n",
              "\n",
              "  // Disable the input element since further picks are not allowed.\n",
              "  inputElement.disabled = true;\n",
              "\n",
              "  if (!files) {\n",
              "    return {\n",
              "      response: {\n",
              "        action: 'complete',\n",
              "      }\n",
              "    };\n",
              "  }\n",
              "\n",
              "  for (const file of files) {\n",
              "    const li = document.createElement('li');\n",
              "    li.append(span(file.name, {fontWeight: 'bold'}));\n",
              "    li.append(span(\n",
              "        `(${file.type || 'n/a'}) - ${file.size} bytes, ` +\n",
              "        `last modified: ${\n",
              "            file.lastModifiedDate ? file.lastModifiedDate.toLocaleDateString() :\n",
              "                                    'n/a'} - `));\n",
              "    const percent = span('0% done');\n",
              "    li.appendChild(percent);\n",
              "\n",
              "    outputElement.appendChild(li);\n",
              "\n",
              "    const fileDataPromise = new Promise((resolve) => {\n",
              "      const reader = new FileReader();\n",
              "      reader.onload = (e) => {\n",
              "        resolve(e.target.result);\n",
              "      };\n",
              "      reader.readAsArrayBuffer(file);\n",
              "    });\n",
              "    // Wait for the data to be ready.\n",
              "    let fileData = yield {\n",
              "      promise: fileDataPromise,\n",
              "      response: {\n",
              "        action: 'continue',\n",
              "      }\n",
              "    };\n",
              "\n",
              "    // Use a chunked sending to avoid message size limits. See b/62115660.\n",
              "    let position = 0;\n",
              "    do {\n",
              "      const length = Math.min(fileData.byteLength - position, MAX_PAYLOAD_SIZE);\n",
              "      const chunk = new Uint8Array(fileData, position, length);\n",
              "      position += length;\n",
              "\n",
              "      const base64 = btoa(String.fromCharCode.apply(null, chunk));\n",
              "      yield {\n",
              "        response: {\n",
              "          action: 'append',\n",
              "          file: file.name,\n",
              "          data: base64,\n",
              "        },\n",
              "      };\n",
              "\n",
              "      let percentDone = fileData.byteLength === 0 ?\n",
              "          100 :\n",
              "          Math.round((position / fileData.byteLength) * 100);\n",
              "      percent.textContent = `${percentDone}% done`;\n",
              "\n",
              "    } while (position < fileData.byteLength);\n",
              "  }\n",
              "\n",
              "  // All done.\n",
              "  yield {\n",
              "    response: {\n",
              "      action: 'complete',\n",
              "    }\n",
              "  };\n",
              "}\n",
              "\n",
              "scope.google = scope.google || {};\n",
              "scope.google.colab = scope.google.colab || {};\n",
              "scope.google.colab._files = {\n",
              "  _uploadFiles,\n",
              "  _uploadFilesContinue,\n",
              "};\n",
              "})(self);\n",
              "</script> "
            ]
          },
          "metadata": {}
        },
        {
          "output_type": "stream",
          "name": "stdout",
          "text": [
            "Saving budget_data.csv to budget_data (19).csv\n",
            "<_csv.reader object at 0x7f760e2c8ba0>\n",
            "Total Months: 86\n",
            "Total Profit/Loss:$ 22564198\n"
          ]
        }
      ]
    }
  ]
}